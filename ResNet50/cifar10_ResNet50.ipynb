{
  "nbformat": 4,
  "nbformat_minor": 0,
  "metadata": {
    "colab": {
      "name": "cifar10_ResNet50.ipynb",
      "provenance": [],
      "collapsed_sections": []
    },
    "kernelspec": {
      "name": "python3",
      "display_name": "Python 3"
    },
    "language_info": {
      "name": "python"
    },
    "accelerator": "GPU"
  },
  "cells": [
    {
      "cell_type": "code",
      "execution_count": 1,
      "metadata": {
        "id": "LGO_fnmOyAYV"
      },
      "outputs": [],
      "source": [
        "from keras.datasets import cifar10\n",
        "from keras.models import Sequential\n",
        "from keras.layers import Conv2D, MaxPool2D, Dropout, Flatten, Dense, Activation\n",
        "from keras.layers import BatchNormalization\n",
        "from keras.utils import np_utils\n",
        "\n",
        "from tensorflow.keras.applications import ResNet50"
      ]
    },
    {
      "cell_type": "code",
      "source": [
        "(X_train, Y_train),(X_test, y_test) = cifar10.load_data()\n",
        "(X_train.shape, Y_train.shape),(X_test.shape, y_test.shape)"
      ],
      "metadata": {
        "id": "7ZJ6VEHfMZqr",
        "colab": {
          "base_uri": "https://localhost:8080/"
        },
        "outputId": "b447c985-37a2-4930-827c-ace6bfb4c8f7"
      },
      "execution_count": 2,
      "outputs": [
        {
          "output_type": "stream",
          "name": "stdout",
          "text": [
            "Downloading data from https://www.cs.toronto.edu/~kriz/cifar-10-python.tar.gz\n",
            "170500096/170498071 [==============================] - 2s 0us/step\n",
            "170508288/170498071 [==============================] - 2s 0us/step\n"
          ]
        },
        {
          "output_type": "execute_result",
          "data": {
            "text/plain": [
              "(((50000, 32, 32, 3), (50000, 1)), ((10000, 32, 32, 3), (10000, 1)))"
            ]
          },
          "metadata": {},
          "execution_count": 2
        }
      ]
    },
    {
      "cell_type": "code",
      "source": [
        "from sklearn.model_selection import train_test_split"
      ],
      "metadata": {
        "id": "VH3z8IXYMuAn"
      },
      "execution_count": 3,
      "outputs": []
    },
    {
      "cell_type": "code",
      "source": [
        "x_train, x_val, y_train, y_val = train_test_split(X_train, Y_train, random_state = 4, test_size = 0.3)\n",
        "x_train.shape, x_val.shape, y_train.shape, y_val.shape"
      ],
      "metadata": {
        "id": "C3LJKv3AMya8",
        "colab": {
          "base_uri": "https://localhost:8080/"
        },
        "outputId": "466bec57-24a1-4e9c-8982-6509e5d54a59"
      },
      "execution_count": 4,
      "outputs": [
        {
          "output_type": "execute_result",
          "data": {
            "text/plain": [
              "((35000, 32, 32, 3), (15000, 32, 32, 3), (35000, 1), (15000, 1))"
            ]
          },
          "metadata": {},
          "execution_count": 4
        }
      ]
    },
    {
      "cell_type": "code",
      "source": [
        "from sklearn.utils.multiclass import unique_labels\n",
        "from tensorflow.keras.utils import to_categorical\n",
        "\n",
        "y_train = to_categorical(y_train,10)\n",
        "y_test = to_categorical(y_test,10)\n",
        "y_val = to_categorical(y_val,10)"
      ],
      "metadata": {
        "id": "CZcaAo3jNaat"
      },
      "execution_count": 5,
      "outputs": []
    },
    {
      "cell_type": "code",
      "source": [
        "from keras.preprocessing.image import ImageDataGenerator\n",
        "\n",
        "train_generator = ImageDataGenerator(\n",
        "      rotation_range = 2, \n",
        "      horizontal_flip = True,\n",
        "      zoom_range = 1,\n",
        "      )\n",
        "\n",
        "test_generator = ImageDataGenerator(\n",
        "      rotation_range = 2, \n",
        "      horizontal_flip = True,\n",
        "      zoom_range = 1,\n",
        "    )\n",
        "\n",
        "val_generator = ImageDataGenerator(\n",
        "      rotation_range = 2, \n",
        "      horizontal_flip = True,\n",
        "      zoom_range = 1,\n",
        "    )"
      ],
      "metadata": {
        "id": "7q5gP-VKPTuS"
      },
      "execution_count": 6,
      "outputs": []
    },
    {
      "cell_type": "code",
      "source": [
        "train_generator.fit(x_train)\n",
        "val_generator.fit(x_val)\n",
        "test_generator.fit(X_test)"
      ],
      "metadata": {
        "id": "7Ib3x9aFQBWv"
      },
      "execution_count": 7,
      "outputs": []
    },
    {
      "cell_type": "code",
      "source": [
        "from keras.callbacks import ReduceLROnPlateau"
      ],
      "metadata": {
        "id": "HFFPdxUAQqDk"
      },
      "execution_count": 8,
      "outputs": []
    },
    {
      "cell_type": "code",
      "source": [
        "lrr = ReduceLROnPlateau(monitor = \"val_accuracy\", factor = 0.01, patience=3, min_lr=1e-5)"
      ],
      "metadata": {
        "id": "tlJpK35GY1X1"
      },
      "execution_count": 9,
      "outputs": []
    },
    {
      "cell_type": "code",
      "source": [
        "model = Sequential()\n",
        "model.add(ResNet50(weights = \"imagenet\", include_top = True))\n",
        "model.add(Flatten())\n",
        "model.add(Dense(256,activation = 'relu'))\n",
        "model.add(Dense(10,activation = \"softmax\"))\n",
        "model.summary()"
      ],
      "metadata": {
        "id": "g7FR5-N5ZBXO",
        "colab": {
          "base_uri": "https://localhost:8080/"
        },
        "outputId": "42aabdce-1319-4d2a-d703-a8603522bd1f"
      },
      "execution_count": 13,
      "outputs": [
        {
          "output_type": "stream",
          "name": "stdout",
          "text": [
            "Model: \"sequential_1\"\n",
            "_________________________________________________________________\n",
            " Layer (type)                Output Shape              Param #   \n",
            "=================================================================\n",
            " resnet50 (Functional)       (None, 1000)              25636712  \n",
            "                                                                 \n",
            " flatten (Flatten)           (None, 1000)              0         \n",
            "                                                                 \n",
            " dense_1 (Dense)             (None, 256)               256256    \n",
            "                                                                 \n",
            " dense_2 (Dense)             (None, 10)                2570      \n",
            "                                                                 \n",
            "=================================================================\n",
            "Total params: 25,895,538\n",
            "Trainable params: 25,842,418\n",
            "Non-trainable params: 53,120\n",
            "_________________________________________________________________\n"
          ]
        }
      ]
    },
    {
      "cell_type": "code",
      "source": [
        "from tensorflow.keras.optimizers import Adam\n",
        "model.compile(loss = \"categorical_crossentropy\", optimizer = \"adam\", metrics = \"accuracy\")"
      ],
      "metadata": {
        "id": "Bt7hGBNOZNDB"
      },
      "execution_count": 14,
      "outputs": []
    },
    {
      "cell_type": "code",
      "source": [
        "model.fit_generator(\n",
        "    train_generator.flow(x_train, y_train, batch_size = 128), \n",
        "    epochs = 5, \n",
        "    validation_data = val_generator.flow(x_val,y_val, batch_size = 128),\n",
        "    callbacks = [lrr],\n",
        "    verbose = 1 \n",
        "    )"
      ],
      "metadata": {
        "id": "kiZmPirWZ1WU",
        "colab": {
          "base_uri": "https://localhost:8080/"
        },
        "outputId": "2b3744d9-de62-4b91-d8b5-120d77a29404"
      },
      "execution_count": 15,
      "outputs": [
        {
          "output_type": "stream",
          "name": "stdout",
          "text": [
            "Epoch 1/5\n"
          ]
        },
        {
          "output_type": "stream",
          "name": "stderr",
          "text": [
            "/usr/local/lib/python3.7/dist-packages/ipykernel_launcher.py:6: UserWarning: `Model.fit_generator` is deprecated and will be removed in a future version. Please use `Model.fit`, which supports generators.\n",
            "  \n"
          ]
        },
        {
          "output_type": "stream",
          "name": "stdout",
          "text": [
            "274/274 [==============================] - 61s 193ms/step - loss: 2.1523 - accuracy: 0.1901 - val_loss: 2.9642 - val_accuracy: 0.1012 - lr: 0.0010\n",
            "Epoch 2/5\n",
            "274/274 [==============================] - 53s 192ms/step - loss: 1.9468 - accuracy: 0.2613 - val_loss: 2.1047 - val_accuracy: 0.2539 - lr: 0.0010\n",
            "Epoch 3/5\n",
            "274/274 [==============================] - 52s 188ms/step - loss: 1.7866 - accuracy: 0.3326 - val_loss: 1.8055 - val_accuracy: 0.3368 - lr: 0.0010\n",
            "Epoch 4/5\n",
            "274/274 [==============================] - 52s 188ms/step - loss: 1.6761 - accuracy: 0.3777 - val_loss: 2.2057 - val_accuracy: 0.2931 - lr: 0.0010\n",
            "Epoch 5/5\n",
            "274/274 [==============================] - 52s 188ms/step - loss: 1.5617 - accuracy: 0.4275 - val_loss: 1.9382 - val_accuracy: 0.3431 - lr: 0.0010\n"
          ]
        },
        {
          "output_type": "execute_result",
          "data": {
            "text/plain": [
              "<keras.callbacks.History at 0x7f867b3c4c10>"
            ]
          },
          "metadata": {},
          "execution_count": 15
        }
      ]
    }
  ]
}